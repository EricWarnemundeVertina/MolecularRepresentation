{
 "cells": [
  {
   "cell_type": "code",
   "execution_count": 1,
   "id": "f42613cd",
   "metadata": {},
   "outputs": [
    {
     "name": "stdout",
     "output_type": "stream",
     "text": [
      "3.10.8\n"
     ]
    }
   ],
   "source": [
    "# This workbook is an exploration of the Molecule3D benchmark data\n",
    "\n",
    "from platform import python_version\n",
    "\n",
    "print(python_version())"
   ]
  },
  {
   "cell_type": "code",
   "execution_count": 20,
   "id": "09372f31",
   "metadata": {},
   "outputs": [
    {
     "name": "stdout",
     "output_type": "stream",
     "text": [
      "True\n"
     ]
    }
   ],
   "source": [
    "import torch\n",
    "import scipy\n",
    "import sdf\n",
    "from rdkit import Chem\n",
    "from tqdm import tqdm\n",
    "import utils\n",
    "\n",
    "print(torch.cuda.is_available())"
   ]
  },
  {
   "cell_type": "code",
   "execution_count": null,
   "id": "dc07febe",
   "metadata": {},
   "outputs": [],
   "source": [
    "class Data():\n",
    "    # My data class to avoid torch sparse problems\n",
    "    \n",
    "    self.__num_nodes__ = None\n",
    "    self.smiles = None\n",
    "    self.edge_index = None\n",
    "    self.edge_attr = None\n",
    "    self.x = None\n",
    "    self.xyz = None\n",
    "    "
   ]
  },
  {
   "cell_type": "code",
   "execution_count": 21,
   "id": "9ddae2fa",
   "metadata": {},
   "outputs": [
    {
     "name": "stderr",
     "output_type": "stream",
     "text": [
      "1/61:   0%|                                                                                | 0/1000000 [00:00<?, ?it/s]\n"
     ]
    },
    {
     "ename": "NameError",
     "evalue": "name 'Data' is not defined",
     "output_type": "error",
     "traceback": [
      "\u001b[1;31m---------------------------------------------------------------------------\u001b[0m",
      "\u001b[1;31mNameError\u001b[0m                                 Traceback (most recent call last)",
      "Cell \u001b[1;32mIn[21], line 21\u001b[0m\n\u001b[0;32m     18\u001b[0m z \u001b[38;5;241m=\u001b[39m [atom\u001b[38;5;241m.\u001b[39mGetAtomicNum() \u001b[38;5;28;01mfor\u001b[39;00m atom \u001b[38;5;129;01min\u001b[39;00m mol\u001b[38;5;241m.\u001b[39mGetAtoms()]\n\u001b[0;32m     20\u001b[0m graph \u001b[38;5;241m=\u001b[39m utils\u001b[38;5;241m.\u001b[39mmol2graph(mol)\n\u001b[1;32m---> 21\u001b[0m data \u001b[38;5;241m=\u001b[39m \u001b[43mData\u001b[49m()\n\u001b[0;32m     22\u001b[0m data\u001b[38;5;241m.\u001b[39m__num_nodes__ \u001b[38;5;241m=\u001b[39m \u001b[38;5;28mint\u001b[39m(graph[\u001b[38;5;124m'\u001b[39m\u001b[38;5;124mnum_nodes\u001b[39m\u001b[38;5;124m'\u001b[39m])\n\u001b[0;32m     23\u001b[0m data\u001b[38;5;241m.\u001b[39msmiles \u001b[38;5;241m=\u001b[39m smiles\n",
      "\u001b[1;31mNameError\u001b[0m: name 'Data' is not defined"
     ]
    }
   ],
   "source": [
    "# sdf_paths = [osp.join(self.raw_dir, 'combined_mols_0_to_1000000.sdf'),\n",
    "#                      osp.join(self.raw_dir, 'combined_mols_1000000_to_2000000.sdf'),\n",
    "#                      osp.join(self.raw_dir, 'combined_mols_2000000_to_3000000.sdf'),\n",
    "#                      osp.join(self.raw_dir, 'combined_mols_3000000_to_3899647.sdf')]\n",
    "\n",
    "sdf_paths = '../../Data/Molecule3DBenchmark/combined_mols_0_to_1000000.sdf'\n",
    "\n",
    "suppl_list = [Chem.SDMolSupplier(sdf_paths, removeHs=False, sanitize=True)]\n",
    "\n",
    "data_list = []\n",
    "abs_idx = -1\n",
    "for i, suppl in enumerate(suppl_list):\n",
    "    for j in tqdm(range(len(suppl)), desc=f'{i+1}/{len(sdf_paths)}'):\n",
    "        abs_idx += 1\n",
    "        mol = suppl[j]\n",
    "        smiles = Chem.MolToSmiles(mol)\n",
    "        coords = mol.GetConformer().GetPositions()\n",
    "        z = [atom.GetAtomicNum() for atom in mol.GetAtoms()]\n",
    "\n",
    "        graph = utils.mol2graph(mol)\n",
    "        data = Data() # data is what calls that torch sparse\n",
    "        data.__num_nodes__ = int(graph['num_nodes'])\n",
    "        data.smiles = smiles\n",
    "        data.edge_index = torch.from_numpy(graph['edge_index']).to(torch.int64)\n",
    "        data.edge_attr = torch.from_numpy(graph['edge_feat']).to(torch.int64)\n",
    "        data.x = torch.from_numpy(graph['node_feat']).to(torch.int64)\n",
    "        data.xyz = torch.tensor(coords, dtype=torch.float32)\n",
    "        data_list.append(data)\n",
    "\n",
    "\n",
    "#suppl_list = [Chem.SDMolSupplier(p, removeHs=False, sanitize=True) for p in sdf_paths]"
   ]
  },
  {
   "cell_type": "code",
   "execution_count": null,
   "id": "dd4d5887",
   "metadata": {},
   "outputs": [],
   "source": [
    "print(len(data_list))\n",
    "print(data_list[0])\n",
    "\n",
    "# data_list is a list of 1000000 molecules\n",
    "# at each index, there is a Data() object with \n",
    "# smiles, edge)index, "
   ]
  },
  {
   "cell_type": "code",
   "execution_count": 3,
   "id": "57d2e62e",
   "metadata": {},
   "outputs": [
    {
     "ename": "OSError",
     "evalue": "Unable to open file (file signature not found)",
     "output_type": "error",
     "traceback": [
      "\u001b[1;31m---------------------------------------------------------------------------\u001b[0m",
      "\u001b[1;31mOSError\u001b[0m                                   Traceback (most recent call last)",
      "Cell \u001b[1;32mIn[3], line 3\u001b[0m\n\u001b[0;32m      1\u001b[0m path \u001b[38;5;241m=\u001b[39m \u001b[38;5;124m\"\u001b[39m\u001b[38;5;124m../../Data/Molecule3DBenchmark/\u001b[39m\u001b[38;5;124m\"\u001b[39m\n\u001b[1;32m----> 3\u001b[0m sample_sdf \u001b[38;5;241m=\u001b[39m \u001b[43msdf\u001b[49m\u001b[38;5;241;43m.\u001b[39;49m\u001b[43mload\u001b[49m\u001b[43m(\u001b[49m\u001b[43mpath\u001b[49m\u001b[43m \u001b[49m\u001b[38;5;241;43m+\u001b[39;49m\u001b[43m \u001b[49m\u001b[38;5;124;43m'\u001b[39;49m\u001b[38;5;124;43mcombined_mols_0_to_1000000.sdf\u001b[39;49m\u001b[38;5;124;43m'\u001b[39;49m\u001b[43m,\u001b[49m\u001b[43m \u001b[49m\n\u001b[0;32m      4\u001b[0m \u001b[43m                     \u001b[49m\u001b[38;5;124;43m'\u001b[39;49m\u001b[38;5;124;43m/v\u001b[39;49m\u001b[38;5;124;43m'\u001b[39;49m\u001b[43m,\u001b[49m\u001b[43m \u001b[49m\u001b[43munit\u001b[49m\u001b[38;5;241;43m=\u001b[39;49m\u001b[38;5;124;43m'\u001b[39;49m\u001b[38;5;124;43mV\u001b[39;49m\u001b[38;5;124;43m'\u001b[39;49m\u001b[43m,\u001b[49m\u001b[43m \u001b[49m\u001b[43mscale_units\u001b[49m\u001b[38;5;241;43m=\u001b[39;49m\u001b[43m[\u001b[49m\u001b[38;5;124;43m'\u001b[39;49m\u001b[38;5;124;43ms\u001b[39;49m\u001b[38;5;124;43m'\u001b[39;49m\u001b[43m]\u001b[49m\u001b[43m)\u001b[49m \u001b[38;5;66;03m#, '/v', unit='V', scale_units=['s'])\u001b[39;00m\n",
      "File \u001b[1;32m~\\anaconda3\\envs\\my-rdkit-env\\lib\\site-packages\\sdf\\__init__.py:191\u001b[0m, in \u001b[0;36mload\u001b[1;34m(filename, objectname, unit, scale_units)\u001b[0m\n\u001b[0;32m    189\u001b[0m     obj \u001b[38;5;241m=\u001b[39m dsres\u001b[38;5;241m.\u001b[39mload(filename, objectname)\n\u001b[0;32m    190\u001b[0m \u001b[38;5;28;01melse\u001b[39;00m:\n\u001b[1;32m--> 191\u001b[0m     obj \u001b[38;5;241m=\u001b[39m \u001b[43mhdf5\u001b[49m\u001b[38;5;241;43m.\u001b[39;49m\u001b[43mload\u001b[49m\u001b[43m(\u001b[49m\u001b[43mfilename\u001b[49m\u001b[43m,\u001b[49m\u001b[43m \u001b[49m\u001b[43mobjectname\u001b[49m\u001b[43m)\u001b[49m\n\u001b[0;32m    193\u001b[0m \u001b[38;5;28;01mif\u001b[39;00m \u001b[38;5;28misinstance\u001b[39m(obj, Dataset):\n\u001b[0;32m    194\u001b[0m \n\u001b[0;32m    195\u001b[0m     \u001b[38;5;66;03m# check the unit\u001b[39;00m\n\u001b[0;32m    196\u001b[0m     \u001b[38;5;28;01mif\u001b[39;00m unit \u001b[38;5;129;01mis\u001b[39;00m \u001b[38;5;129;01mnot\u001b[39;00m \u001b[38;5;28;01mNone\u001b[39;00m \u001b[38;5;129;01mand\u001b[39;00m unit \u001b[38;5;241m!=\u001b[39m obj\u001b[38;5;241m.\u001b[39munit:\n",
      "File \u001b[1;32m~\\anaconda3\\envs\\my-rdkit-env\\lib\\site-packages\\sdf\\hdf5.py:21\u001b[0m, in \u001b[0;36mload\u001b[1;34m(filename, objectname)\u001b[0m\n\u001b[0;32m     19\u001b[0m \u001b[38;5;28;01mdef\u001b[39;00m \u001b[38;5;21mload\u001b[39m(filename, objectname):\n\u001b[1;32m---> 21\u001b[0m     \u001b[38;5;28;01mwith\u001b[39;00m \u001b[43mh5py\u001b[49m\u001b[38;5;241;43m.\u001b[39;49m\u001b[43mFile\u001b[49m\u001b[43m(\u001b[49m\u001b[43mfilename\u001b[49m\u001b[43m,\u001b[49m\u001b[43m \u001b[49m\u001b[38;5;124;43m'\u001b[39;49m\u001b[38;5;124;43mr\u001b[39;49m\u001b[38;5;124;43m'\u001b[39;49m\u001b[43m)\u001b[49m \u001b[38;5;28;01mas\u001b[39;00m f:\n\u001b[0;32m     23\u001b[0m         datasets \u001b[38;5;241m=\u001b[39m {}\n\u001b[0;32m     25\u001b[0m         dsobj \u001b[38;5;241m=\u001b[39m f[objectname]\n",
      "File \u001b[1;32m~\\anaconda3\\envs\\my-rdkit-env\\lib\\site-packages\\h5py\\_hl\\files.py:533\u001b[0m, in \u001b[0;36mFile.__init__\u001b[1;34m(self, name, mode, driver, libver, userblock_size, swmr, rdcc_nslots, rdcc_nbytes, rdcc_w0, track_order, fs_strategy, fs_persist, fs_threshold, fs_page_size, page_buf_size, min_meta_keep, min_raw_keep, locking, alignment_threshold, alignment_interval, **kwds)\u001b[0m\n\u001b[0;32m    525\u001b[0m     fapl \u001b[38;5;241m=\u001b[39m make_fapl(driver, libver, rdcc_nslots, rdcc_nbytes, rdcc_w0,\n\u001b[0;32m    526\u001b[0m                      locking, page_buf_size, min_meta_keep, min_raw_keep,\n\u001b[0;32m    527\u001b[0m                      alignment_threshold\u001b[38;5;241m=\u001b[39malignment_threshold,\n\u001b[0;32m    528\u001b[0m                      alignment_interval\u001b[38;5;241m=\u001b[39malignment_interval,\n\u001b[0;32m    529\u001b[0m                      \u001b[38;5;241m*\u001b[39m\u001b[38;5;241m*\u001b[39mkwds)\n\u001b[0;32m    530\u001b[0m     fcpl \u001b[38;5;241m=\u001b[39m make_fcpl(track_order\u001b[38;5;241m=\u001b[39mtrack_order, fs_strategy\u001b[38;5;241m=\u001b[39mfs_strategy,\n\u001b[0;32m    531\u001b[0m                      fs_persist\u001b[38;5;241m=\u001b[39mfs_persist, fs_threshold\u001b[38;5;241m=\u001b[39mfs_threshold,\n\u001b[0;32m    532\u001b[0m                      fs_page_size\u001b[38;5;241m=\u001b[39mfs_page_size)\n\u001b[1;32m--> 533\u001b[0m     fid \u001b[38;5;241m=\u001b[39m \u001b[43mmake_fid\u001b[49m\u001b[43m(\u001b[49m\u001b[43mname\u001b[49m\u001b[43m,\u001b[49m\u001b[43m \u001b[49m\u001b[43mmode\u001b[49m\u001b[43m,\u001b[49m\u001b[43m \u001b[49m\u001b[43muserblock_size\u001b[49m\u001b[43m,\u001b[49m\u001b[43m \u001b[49m\u001b[43mfapl\u001b[49m\u001b[43m,\u001b[49m\u001b[43m \u001b[49m\u001b[43mfcpl\u001b[49m\u001b[43m,\u001b[49m\u001b[43m \u001b[49m\u001b[43mswmr\u001b[49m\u001b[38;5;241;43m=\u001b[39;49m\u001b[43mswmr\u001b[49m\u001b[43m)\u001b[49m\n\u001b[0;32m    535\u001b[0m \u001b[38;5;28;01mif\u001b[39;00m \u001b[38;5;28misinstance\u001b[39m(libver, \u001b[38;5;28mtuple\u001b[39m):\n\u001b[0;32m    536\u001b[0m     \u001b[38;5;28mself\u001b[39m\u001b[38;5;241m.\u001b[39m_libver \u001b[38;5;241m=\u001b[39m libver\n",
      "File \u001b[1;32m~\\anaconda3\\envs\\my-rdkit-env\\lib\\site-packages\\h5py\\_hl\\files.py:226\u001b[0m, in \u001b[0;36mmake_fid\u001b[1;34m(name, mode, userblock_size, fapl, fcpl, swmr)\u001b[0m\n\u001b[0;32m    224\u001b[0m     \u001b[38;5;28;01mif\u001b[39;00m swmr \u001b[38;5;129;01mand\u001b[39;00m swmr_support:\n\u001b[0;32m    225\u001b[0m         flags \u001b[38;5;241m|\u001b[39m\u001b[38;5;241m=\u001b[39m h5f\u001b[38;5;241m.\u001b[39mACC_SWMR_READ\n\u001b[1;32m--> 226\u001b[0m     fid \u001b[38;5;241m=\u001b[39m \u001b[43mh5f\u001b[49m\u001b[38;5;241;43m.\u001b[39;49m\u001b[43mopen\u001b[49m\u001b[43m(\u001b[49m\u001b[43mname\u001b[49m\u001b[43m,\u001b[49m\u001b[43m \u001b[49m\u001b[43mflags\u001b[49m\u001b[43m,\u001b[49m\u001b[43m \u001b[49m\u001b[43mfapl\u001b[49m\u001b[38;5;241;43m=\u001b[39;49m\u001b[43mfapl\u001b[49m\u001b[43m)\u001b[49m\n\u001b[0;32m    227\u001b[0m \u001b[38;5;28;01melif\u001b[39;00m mode \u001b[38;5;241m==\u001b[39m \u001b[38;5;124m'\u001b[39m\u001b[38;5;124mr+\u001b[39m\u001b[38;5;124m'\u001b[39m:\n\u001b[0;32m    228\u001b[0m     fid \u001b[38;5;241m=\u001b[39m h5f\u001b[38;5;241m.\u001b[39mopen(name, h5f\u001b[38;5;241m.\u001b[39mACC_RDWR, fapl\u001b[38;5;241m=\u001b[39mfapl)\n",
      "File \u001b[1;32mh5py\\_objects.pyx:54\u001b[0m, in \u001b[0;36mh5py._objects.with_phil.wrapper\u001b[1;34m()\u001b[0m\n",
      "File \u001b[1;32mh5py\\_objects.pyx:55\u001b[0m, in \u001b[0;36mh5py._objects.with_phil.wrapper\u001b[1;34m()\u001b[0m\n",
      "File \u001b[1;32mh5py\\h5f.pyx:106\u001b[0m, in \u001b[0;36mh5py.h5f.open\u001b[1;34m()\u001b[0m\n",
      "\u001b[1;31mOSError\u001b[0m: Unable to open file (file signature not found)"
     ]
    }
   ],
   "source": [
    "path = \"../../Data/Molecule3DBenchmark/\"\n",
    "\n",
    "sample_sdf = sdf.load(path + 'combined_mols_0_to_1000000.sdf', \n",
    "                     '/v', unit='V', scale_units=['s']) #, '/v', unit='V', scale_units=['s'])"
   ]
  },
  {
   "cell_type": "code",
   "execution_count": null,
   "id": "044d9528",
   "metadata": {},
   "outputs": [],
   "source": [
    "root_dir = path # Where your data folder is located\n",
    "\n",
    "train_dataset = Molecule3D(root=root_dir, transform=None, split='train', split_mode=conf['split'])\n",
    "val_dataset = Molecule3D(root=root_dir, transform=None, split='val', split_mode=conf['split'])\n",
    "test_dataset = Molecule3D(root=root_dir, transform=None, split='test', split_mode=conf['split'])\n",
    "\n",
    "# In this example, we use a subset of dataset for illustration\n",
    "train_dataset = train_dataset[:1000]\n",
    "val_dataset = val_dataset[:100]\n",
    "test_dataset = test_dataset[:100]"
   ]
  },
  {
   "cell_type": "code",
   "execution_count": null,
   "id": "9cb568a5",
   "metadata": {},
   "outputs": [],
   "source": []
  }
 ],
 "metadata": {
  "kernelspec": {
   "display_name": "Python 3 (ipykernel)",
   "language": "python",
   "name": "python3"
  },
  "language_info": {
   "codemirror_mode": {
    "name": "ipython",
    "version": 3
   },
   "file_extension": ".py",
   "mimetype": "text/x-python",
   "name": "python",
   "nbconvert_exporter": "python",
   "pygments_lexer": "ipython3",
   "version": "3.10.8"
  }
 },
 "nbformat": 4,
 "nbformat_minor": 5
}
